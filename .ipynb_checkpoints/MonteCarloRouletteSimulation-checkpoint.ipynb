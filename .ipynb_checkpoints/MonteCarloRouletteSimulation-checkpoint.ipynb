{
 "cells": [
  {
   "cell_type": "code",
   "execution_count": null,
   "metadata": {},
   "outputs": [],
   "source": [
    "\"\"\"\n",
    "This is inspired from lecture Monte Carlo Simulation by MIT Professor John Guttag in \n",
    "course 6.0002 (Introduction to Computational thinking and Data Science).\n",
    "Let's get started ! \n",
    "\n",
    "@Author : Aman Singh Thakur\n",
    "@Date : 21st June, 2020\n",
    "@Description : Detailed Monte Carlo Simulation\n",
    "\n",
    "The universe is held up by the same combination of numbers which we can count on our fingers.\n",
    "Isn't it fascinating ?\n",
    "\n",
    "\"\"\""
   ]
  },
  {
   "cell_type": "code",
   "execution_count": 5,
   "metadata": {},
   "outputs": [],
   "source": [
    "import enum\n",
    "\n",
    "class POCKET_COLOR(enum.Enum):\n",
    "    RED=1\n",
    "    BLACK=2\n",
    "    GREEN=3 \n",
    "    \n",
    "class POCKET:\n",
    "    def __init__(self, pocket_no, pocket_color):\n",
    "        self.pocket_no = pocket_no\n",
    "        self.pocket_color = pocket_color\n",
    "    def __str__(self):\n",
    "        pocket_no = str(self.pocket_no)\n",
    "        pocket_color = POCKET_COLOR(self.pocket_color).name\n",
    "        return \"POCKET \"+pocket_no+\" \"+pocket_color\n",
    "\n",
    "class RouletteTable:\n",
    "  def __init__(self, name, number_range):\n",
    "    self.name = name\n",
    "    self.pockets = []\n",
    "    flag=0\n",
    "    for i in range (1, number_range+1):\n",
    "        if flag==0 :\n",
    "            self.pockets.append(POCKET(i,POCKET_COLOR.RED))\n",
    "            flag=1\n",
    "        else:\n",
    "            self.pockets.append(POCKET(i,POCKET_COLOR.BLACK))\n",
    "            flag=0\n",
    "\n",
    "class BettingScheme:\n",
    "    def __init__(self, total_asset, initial_bet, if_loss_is_double_or_nothing, is_allow_negative_cash):\n",
    "        self.total_asset=total_asset\n",
    "        self.initial_bet=initial_bet\n",
    "        self.if_loss_is_double_or_nothing=if_loss_is_double_or_nothing\n",
    "        self.is_allow_negative_cash=is_allow_negative_cash\n",
    "        \n",
    "            \n",
    "class RouletteBasicStrategy:\n",
    "     def __init__(self):\n",
    "        self.strategyNames = ['All Red/Odd', 'All Black/Even', 'First12', 'Second12', \n",
    "                     'Third12', 'First18', 'Second18', 'RandomRow', 'RandomCol', 'RandomNo']\n",
    "        self.strategyList = {\n",
    "            'All Red/Odd' : [1,3,5,7,9,11,13,15,17,19,21,23,25,27,29,31,33,35],\n",
    "            'All Black/Even' : [2,4,6,8,10,12,14,16,18,20,22,24,26,28,30,32,34, 36],\n",
    "            'First12' : [1,2,3,4,5,6,7,8,9,10,11,12],\n",
    "            'Second12' : [13,14,15,16,17,18,19,20,21,22,23,24],\n",
    "            'Third12' : [25,26,27,28,29,30,31,32,33,34,36],\n",
    "            'First18' : [1,2,3,4,5,6,7,8,9,10,11,12,13,14,15,16,17,18],\n",
    "            'Second18' : [19,20,21,22,23,24,25,26,27,28,29,30,31,32,33,34,35,36],\n",
    "            'RandomRow' : [1,4,7,10,13,16,19,22,25,28,31,34],\n",
    "            'RandomCol' : [1,2,3],\n",
    "            'RandomNo' : [1]\n",
    "        }\n",
    "        self.strategyIncentive = [2, 2, 3, 3, 3, 2, 2, 3, 12, 36]"
   ]
  },
  {
   "cell_type": "code",
   "execution_count": 29,
   "metadata": {},
   "outputs": [],
   "source": [
    "import random\n",
    "\n",
    "def letsPlayRoulette(rouletteTable, strategy_list, bettingScheme, total_epoch, epoch_logger_break, roulette_start, roulette_end):\n",
    "    \n",
    "    pockets_frequency = [0 for x in range(roulette_start,roulette_end+1)]\n",
    "    \n",
    "    bettingArray = []\n",
    "    for i in range(0, len(strategy_list.strategyNames)):\n",
    "        bettingArray.append(BettingScheme(bettingScheme.total_asset,bettingScheme.initial_bet, \n",
    "                                          bettingScheme.if_loss_is_double_or_nothing, bettingScheme.is_allow_negative_cash))\n",
    "\n",
    "    for epoch in range(0, total_epoch):\n",
    "        \n",
    "        pocket_on_spinning_the_wheel = random.randint(roulette_start,roulette_end)\n",
    "        pockets_frequency[pocket_on_spinning_the_wheel-1]+=1\n",
    "        \n",
    "        for strategy in range(0, len(strategy_list.strategyNames)):\n",
    "            name = strategy_list.strategyNames[strategy]\n",
    "            if(bettingArray[strategy].is_allow_negative_cash==False and bettingArray[strategy].total_asset<0):\n",
    "                break\n",
    "            if pocket_on_spinning_the_wheel in strategy_list.strategyList[name]:\n",
    "                bettingArray[strategy].total_asset+=bettingArray[strategy].initial_bet*strategy_list.strategyIncentive[strategy]\n",
    "            else:\n",
    "                bettingArray[strategy].total_asset-=bettingArray[strategy].initial_bet\n",
    "                if(bettingArray[strategy].if_loss_is_double_or_nothing==True):\n",
    "                    bettingArray[strategy].initial_bet*=2\n",
    "        if epoch%epoch_logger_break==0 :\n",
    "            print(\"Epoch No \"+str(epoch)+\" is done\")\n",
    "    \n",
    "    return bettingArray, pockets_frequency"
   ]
  },
  {
   "cell_type": "code",
   "execution_count": 39,
   "metadata": {},
   "outputs": [],
   "source": [
    "fairRoulette = RouletteTable('fair Roulett', 36)\n",
    "bettingScheme = BettingScheme(1000, 10, True, True)\n",
    "basicStrategy = RouletteBasicStrategy()"
   ]
  },
  {
   "cell_type": "code",
   "execution_count": 42,
   "metadata": {},
   "outputs": [
    {
     "name": "stdout",
     "output_type": "stream",
     "text": [
      "Epoch No 0 is done\n",
      "Epoch No 1 is done\n",
      "Epoch No 2 is done\n",
      "Epoch No 3 is done\n",
      "Epoch No 4 is done\n",
      "Epoch No 5 is done\n",
      "Epoch No 6 is done\n",
      "Epoch No 7 is done\n",
      "Epoch No 8 is done\n",
      "Epoch No 9 is done\n"
     ]
    }
   ],
   "source": [
    "bettingArray, pockets_frequency = letsPlayRoulette(fairRoulette, basicStrategy, bettingScheme, 10, 1, 1, 36)"
   ]
  },
  {
   "cell_type": "code",
   "execution_count": 43,
   "metadata": {},
   "outputs": [
    {
     "name": "stdout",
     "output_type": "stream",
     "text": [
      "All Red/Odd 1610\n",
      "All Black/Even 1790\n",
      "First12 5520\n",
      "Second12 3570\n",
      "Third12 1210\n",
      "First18 4230\n",
      "Second18 1090\n",
      "RandomRow 3760\n",
      "RandomCol -9230\n",
      "RandomNo -9230\n",
      "[0, 0, 0, 0, 0, 0, 1, 0, 0, 2, 0, 0, 0, 0, 0, 0, 1, 0, 0, 0, 0, 0, 0, 0, 0, 1, 0, 0, 1, 0, 1, 0, 0, 0, 2, 1]\n"
     ]
    }
   ],
   "source": [
    "for i in range(0, len(basicStrategy.strategyNames)):\n",
    "    print(str(basicStrategy.strategyNames[i])+\" \"+str(bettingArray[i].total_asset))\n",
    "\n",
    "print(pockets_frequency)"
   ]
  },
  {
   "cell_type": "code",
   "execution_count": null,
   "metadata": {},
   "outputs": [],
   "source": []
  }
 ],
 "metadata": {
  "kernelspec": {
   "display_name": "Python 3",
   "language": "python",
   "name": "python3"
  },
  "language_info": {
   "codemirror_mode": {
    "name": "ipython",
    "version": 3
   },
   "file_extension": ".py",
   "mimetype": "text/x-python",
   "name": "python",
   "nbconvert_exporter": "python",
   "pygments_lexer": "ipython3",
   "version": "3.7.3"
  }
 },
 "nbformat": 4,
 "nbformat_minor": 2
}
